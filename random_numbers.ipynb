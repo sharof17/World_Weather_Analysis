{
 "cells": [
  {
   "cell_type": "code",
   "execution_count": 53,
   "id": "9ba65748",
   "metadata": {},
   "outputs": [],
   "source": [
    "import random\n",
    "import numpy as np\n",
    "# Import timeit.\n",
    "import timeit"
   ]
  },
  {
   "cell_type": "code",
   "execution_count": 48,
   "id": "bb778920",
   "metadata": {},
   "outputs": [
    {
     "data": {
      "text/plain": [
       "1"
      ]
     },
     "execution_count": 48,
     "metadata": {},
     "output_type": "execute_result"
    }
   ],
   "source": [
    "random.randrange(1,4,2)"
   ]
  },
  {
   "cell_type": "code",
   "execution_count": 49,
   "id": "38630569",
   "metadata": {},
   "outputs": [
    {
     "data": {
      "text/plain": [
       "0.8316043408468544"
      ]
     },
     "execution_count": 49,
     "metadata": {},
     "output_type": "execute_result"
    }
   ],
   "source": [
    "random.random(\n",
    ")"
   ]
  },
  {
   "cell_type": "code",
   "execution_count": 50,
   "id": "9b5df5ab",
   "metadata": {},
   "outputs": [
    {
     "data": {
      "text/plain": [
       "3.9825694549481416"
      ]
     },
     "execution_count": 50,
     "metadata": {},
     "output_type": "execute_result"
    }
   ],
   "source": [
    "random_number = random.randint(-90,89) + random.random()\n",
    "random_number"
   ]
  },
  {
   "cell_type": "code",
   "execution_count": 46,
   "id": "c1eb0886",
   "metadata": {},
   "outputs": [
    {
     "data": {
      "text/plain": [
       "[57.010503338770356,\n",
       " -75.8906688039331,\n",
       " 11.407679448662828,\n",
       " -41.09890586092946,\n",
       " -78.58989537507486,\n",
       " 79.10082034868397,\n",
       " 31.230466102338838,\n",
       " -18.276435913736695,\n",
       " 40.316142570280974,\n",
       " 66.33995667865626]"
      ]
     },
     "execution_count": 46,
     "metadata": {},
     "output_type": "execute_result"
    }
   ],
   "source": [
    "x = 1\n",
    "latitudes = []\n",
    "while x < 11:\n",
    "    random_lat = random.randint(-90, 89) + random.random()\n",
    "    latitudes.append(random_lat)\n",
    "    x += 1\n",
    "latitudes"
   ]
  },
  {
   "cell_type": "code",
   "execution_count": 51,
   "id": "c2a35f14",
   "metadata": {},
   "outputs": [
    {
     "data": {
      "text/plain": [
       "-45.621329037489325"
      ]
     },
     "execution_count": 51,
     "metadata": {},
     "output_type": "execute_result"
    }
   ],
   "source": [
    "np.random.uniform(-90.000, 90.000)"
   ]
  },
  {
   "cell_type": "code",
   "execution_count": 52,
   "id": "2d8dd154",
   "metadata": {},
   "outputs": [
    {
     "data": {
      "text/plain": [
       "array([ 13.89348619, -45.99264243,  -6.24002509,  83.04999243,\n",
       "        46.48093924, -21.07431562, -43.81160985,  64.04627859,\n",
       "       -16.22785847,  53.26437202,  58.60353077,  -7.40767793,\n",
       "         3.57974183, -15.93237426,  -1.89058028,  35.84321087,\n",
       "       -10.4867557 , -30.79809337, -82.16974169,  13.86977192,\n",
       "        23.56895645,  43.54096898, -51.4785106 , -33.60895662,\n",
       "        80.73491427,  85.6436917 ,  40.17095513,  47.38017102,\n",
       "        31.75253606, -76.57649123,  47.99072475, -86.59678273,\n",
       "         1.17111132, -84.54944202, -68.05720238, -47.16738088,\n",
       "       -71.30241046,  13.53406017, -46.80097002,   5.61641428,\n",
       "        49.21411157,  78.83012629, -71.83529106,  39.41066958,\n",
       "       -24.07056705, -54.53872631,  22.02087192, -18.60697956,\n",
       "       -21.36607653,  45.20260854])"
      ]
     },
     "execution_count": 52,
     "metadata": {},
     "output_type": "execute_result"
    }
   ],
   "source": [
    "np.random.uniform(-90.000, 90.000, size=50)"
   ]
  },
  {
   "cell_type": "code",
   "execution_count": 54,
   "id": "54f888dc",
   "metadata": {},
   "outputs": [
    {
     "name": "stdout",
     "output_type": "stream",
     "text": [
      "14.2 µs ± 603 ns per loop (mean ± std. dev. of 7 runs, 100000 loops each)\n"
     ]
    }
   ],
   "source": [
    "%timeit np.random.uniform(-90.000, 90.000, size=1500)"
   ]
  },
  {
   "cell_type": "code",
   "execution_count": 55,
   "id": "27c11c1f",
   "metadata": {},
   "outputs": [
    {
     "name": "stdout",
     "output_type": "stream",
     "text": [
      "2.34 ms ± 498 µs per loop (mean ± std. dev. of 7 runs, 100 loops each)\n"
     ]
    }
   ],
   "source": [
    "def latitudes(size):\n",
    "    latitudes = []\n",
    "    x = 0\n",
    "    while x < (size):\n",
    "        random_lat = random.randint(-90, 90) + random.random()\n",
    "        latitudes.append(random_lat)\n",
    "        x += 1\n",
    "    return latitudes\n",
    "# Call the function with 1500.\n",
    "%timeit latitudes(1500)"
   ]
  },
  {
   "cell_type": "code",
   "execution_count": null,
   "id": "932aaf95",
   "metadata": {},
   "outputs": [],
   "source": []
  }
 ],
 "metadata": {
  "kernelspec": {
   "display_name": "PythonData",
   "language": "python",
   "name": "pythondata"
  },
  "language_info": {
   "codemirror_mode": {
    "name": "ipython",
    "version": 3
   },
   "file_extension": ".py",
   "mimetype": "text/x-python",
   "name": "python",
   "nbconvert_exporter": "python",
   "pygments_lexer": "ipython3",
   "version": "3.7.6"
  }
 },
 "nbformat": 4,
 "nbformat_minor": 5
}
